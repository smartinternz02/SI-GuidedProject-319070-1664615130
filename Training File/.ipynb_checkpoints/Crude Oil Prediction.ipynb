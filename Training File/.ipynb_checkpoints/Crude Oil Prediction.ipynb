{
 "cells": [
  {
   "cell_type": "code",
   "execution_count": 64,
   "id": "d4cc2ff3",
   "metadata": {},
   "outputs": [],
   "source": [
    "#import libraries\n",
    "import pandas as pd\n",
    "import numpy as np\n",
    "import matplotlib.pyplot as plt"
   ]
  },
  {
   "cell_type": "code",
   "execution_count": 65,
   "id": "7992ed88",
   "metadata": {},
   "outputs": [],
   "source": [
    "Data=pd.read_excel(\"Crude Oil Prices Daily.xlsx\")"
   ]
  },
  {
   "cell_type": "code",
   "execution_count": 66,
   "id": "4232c441",
   "metadata": {},
   "outputs": [
    {
     "data": {
      "text/html": [
       "<div>\n",
       "<style scoped>\n",
       "    .dataframe tbody tr th:only-of-type {\n",
       "        vertical-align: middle;\n",
       "    }\n",
       "\n",
       "    .dataframe tbody tr th {\n",
       "        vertical-align: top;\n",
       "    }\n",
       "\n",
       "    .dataframe thead th {\n",
       "        text-align: right;\n",
       "    }\n",
       "</style>\n",
       "<table border=\"1\" class=\"dataframe\">\n",
       "  <thead>\n",
       "    <tr style=\"text-align: right;\">\n",
       "      <th></th>\n",
       "      <th>Date</th>\n",
       "      <th>Closing Value</th>\n",
       "    </tr>\n",
       "  </thead>\n",
       "  <tbody>\n",
       "    <tr>\n",
       "      <th>0</th>\n",
       "      <td>1986-01-02</td>\n",
       "      <td>25.56</td>\n",
       "    </tr>\n",
       "    <tr>\n",
       "      <th>1</th>\n",
       "      <td>1986-01-03</td>\n",
       "      <td>26.00</td>\n",
       "    </tr>\n",
       "    <tr>\n",
       "      <th>2</th>\n",
       "      <td>1986-01-06</td>\n",
       "      <td>26.53</td>\n",
       "    </tr>\n",
       "    <tr>\n",
       "      <th>3</th>\n",
       "      <td>1986-01-07</td>\n",
       "      <td>25.85</td>\n",
       "    </tr>\n",
       "    <tr>\n",
       "      <th>4</th>\n",
       "      <td>1986-01-08</td>\n",
       "      <td>25.87</td>\n",
       "    </tr>\n",
       "  </tbody>\n",
       "</table>\n",
       "</div>"
      ],
      "text/plain": [
       "        Date  Closing Value\n",
       "0 1986-01-02          25.56\n",
       "1 1986-01-03          26.00\n",
       "2 1986-01-06          26.53\n",
       "3 1986-01-07          25.85\n",
       "4 1986-01-08          25.87"
      ]
     },
     "execution_count": 66,
     "metadata": {},
     "output_type": "execute_result"
    }
   ],
   "source": [
    "Data.head()"
   ]
  },
  {
   "cell_type": "code",
   "execution_count": 67,
   "id": "8e0a7fa8",
   "metadata": {},
   "outputs": [
    {
     "data": {
      "text/html": [
       "<div>\n",
       "<style scoped>\n",
       "    .dataframe tbody tr th:only-of-type {\n",
       "        vertical-align: middle;\n",
       "    }\n",
       "\n",
       "    .dataframe tbody tr th {\n",
       "        vertical-align: top;\n",
       "    }\n",
       "\n",
       "    .dataframe thead th {\n",
       "        text-align: right;\n",
       "    }\n",
       "</style>\n",
       "<table border=\"1\" class=\"dataframe\">\n",
       "  <thead>\n",
       "    <tr style=\"text-align: right;\">\n",
       "      <th></th>\n",
       "      <th>Date</th>\n",
       "      <th>Closing Value</th>\n",
       "    </tr>\n",
       "  </thead>\n",
       "  <tbody>\n",
       "    <tr>\n",
       "      <th>8218</th>\n",
       "      <td>2018-07-03</td>\n",
       "      <td>74.19</td>\n",
       "    </tr>\n",
       "    <tr>\n",
       "      <th>8219</th>\n",
       "      <td>2018-07-04</td>\n",
       "      <td>NaN</td>\n",
       "    </tr>\n",
       "    <tr>\n",
       "      <th>8220</th>\n",
       "      <td>2018-07-05</td>\n",
       "      <td>73.05</td>\n",
       "    </tr>\n",
       "    <tr>\n",
       "      <th>8221</th>\n",
       "      <td>2018-07-06</td>\n",
       "      <td>73.78</td>\n",
       "    </tr>\n",
       "    <tr>\n",
       "      <th>8222</th>\n",
       "      <td>2018-07-09</td>\n",
       "      <td>73.93</td>\n",
       "    </tr>\n",
       "  </tbody>\n",
       "</table>\n",
       "</div>"
      ],
      "text/plain": [
       "           Date  Closing Value\n",
       "8218 2018-07-03          74.19\n",
       "8219 2018-07-04            NaN\n",
       "8220 2018-07-05          73.05\n",
       "8221 2018-07-06          73.78\n",
       "8222 2018-07-09          73.93"
      ]
     },
     "execution_count": 67,
     "metadata": {},
     "output_type": "execute_result"
    }
   ],
   "source": [
    "Data.tail()"
   ]
  },
  {
   "cell_type": "code",
   "execution_count": 68,
   "id": "b9dac222",
   "metadata": {},
   "outputs": [
    {
     "data": {
      "text/html": [
       "<div>\n",
       "<style scoped>\n",
       "    .dataframe tbody tr th:only-of-type {\n",
       "        vertical-align: middle;\n",
       "    }\n",
       "\n",
       "    .dataframe tbody tr th {\n",
       "        vertical-align: top;\n",
       "    }\n",
       "\n",
       "    .dataframe thead th {\n",
       "        text-align: right;\n",
       "    }\n",
       "</style>\n",
       "<table border=\"1\" class=\"dataframe\">\n",
       "  <thead>\n",
       "    <tr style=\"text-align: right;\">\n",
       "      <th></th>\n",
       "      <th>Closing Value</th>\n",
       "    </tr>\n",
       "  </thead>\n",
       "  <tbody>\n",
       "    <tr>\n",
       "      <th>count</th>\n",
       "      <td>8216.000000</td>\n",
       "    </tr>\n",
       "    <tr>\n",
       "      <th>mean</th>\n",
       "      <td>43.492139</td>\n",
       "    </tr>\n",
       "    <tr>\n",
       "      <th>std</th>\n",
       "      <td>29.616804</td>\n",
       "    </tr>\n",
       "    <tr>\n",
       "      <th>min</th>\n",
       "      <td>10.250000</td>\n",
       "    </tr>\n",
       "    <tr>\n",
       "      <th>25%</th>\n",
       "      <td>19.577500</td>\n",
       "    </tr>\n",
       "    <tr>\n",
       "      <th>50%</th>\n",
       "      <td>29.610000</td>\n",
       "    </tr>\n",
       "    <tr>\n",
       "      <th>75%</th>\n",
       "      <td>63.402500</td>\n",
       "    </tr>\n",
       "    <tr>\n",
       "      <th>max</th>\n",
       "      <td>145.310000</td>\n",
       "    </tr>\n",
       "  </tbody>\n",
       "</table>\n",
       "</div>"
      ],
      "text/plain": [
       "       Closing Value\n",
       "count    8216.000000\n",
       "mean       43.492139\n",
       "std        29.616804\n",
       "min        10.250000\n",
       "25%        19.577500\n",
       "50%        29.610000\n",
       "75%        63.402500\n",
       "max       145.310000"
      ]
     },
     "execution_count": 68,
     "metadata": {},
     "output_type": "execute_result"
    }
   ],
   "source": [
    "Data.describe()"
   ]
  },
  {
   "cell_type": "code",
   "execution_count": 69,
   "id": "8e66f34c",
   "metadata": {},
   "outputs": [
    {
     "name": "stdout",
     "output_type": "stream",
     "text": [
      "<class 'pandas.core.frame.DataFrame'>\n",
      "RangeIndex: 8223 entries, 0 to 8222\n",
      "Data columns (total 2 columns):\n",
      " #   Column         Non-Null Count  Dtype         \n",
      "---  ------         --------------  -----         \n",
      " 0   Date           8223 non-null   datetime64[ns]\n",
      " 1   Closing Value  8216 non-null   float64       \n",
      "dtypes: datetime64[ns](1), float64(1)\n",
      "memory usage: 128.6 KB\n"
     ]
    }
   ],
   "source": [
    "Data.info()"
   ]
  },
  {
   "cell_type": "code",
   "execution_count": 70,
   "id": "fa8390bd",
   "metadata": {},
   "outputs": [
    {
     "data": {
      "text/plain": [
       "Date             False\n",
       "Closing Value     True\n",
       "dtype: bool"
      ]
     },
     "execution_count": 70,
     "metadata": {},
     "output_type": "execute_result"
    }
   ],
   "source": [
    "Data.isnull().any()"
   ]
  },
  {
   "cell_type": "code",
   "execution_count": 71,
   "id": "491d7862",
   "metadata": {},
   "outputs": [
    {
     "data": {
      "text/plain": [
       "Date             0\n",
       "Closing Value    7\n",
       "dtype: int64"
      ]
     },
     "execution_count": 71,
     "metadata": {},
     "output_type": "execute_result"
    }
   ],
   "source": [
    "Data.isnull().sum()"
   ]
  },
  {
   "cell_type": "code",
   "execution_count": 72,
   "id": "e82f9bfb",
   "metadata": {},
   "outputs": [],
   "source": [
    "Data.dropna(axis=0,inplace=True)"
   ]
  },
  {
   "cell_type": "code",
   "execution_count": 73,
   "id": "461f3f71",
   "metadata": {},
   "outputs": [
    {
     "data": {
      "text/plain": [
       "Date             0\n",
       "Closing Value    0\n",
       "dtype: int64"
      ]
     },
     "execution_count": 73,
     "metadata": {},
     "output_type": "execute_result"
    }
   ],
   "source": [
    "Data.isnull().sum()"
   ]
  },
  {
   "cell_type": "code",
   "execution_count": 74,
   "id": "288a1a62",
   "metadata": {},
   "outputs": [],
   "source": [
    "Data_oil=Data.reset_index()['Closing Value']"
   ]
  },
  {
   "cell_type": "code",
   "execution_count": 75,
   "id": "36be19fa",
   "metadata": {},
   "outputs": [],
   "source": [
    "from sklearn.preprocessing import MinMaxScaler\n",
    "scaler=MinMaxScaler(feature_range=(0,1))\n",
    "Data_oil=scaler.fit_transform(np.array(Data_oil).reshape(-1,1))"
   ]
  },
  {
   "cell_type": "code",
   "execution_count": 76,
   "id": "236962fd",
   "metadata": {},
   "outputs": [
    {
     "data": {
      "text/plain": [
       "[<matplotlib.lines.Line2D at 0x1df07cad700>]"
      ]
     },
     "execution_count": 76,
     "metadata": {},
     "output_type": "execute_result"
    },
    {
     "data": {
      "image/png": "[encoded data removed]",
      "text/plain": [
       "<Figure size 432x288 with 1 Axes>"
      ]
     },
     "metadata": {
      "needs_background": "light"
     },
     "output_type": "display_data"
    }
   ],
   "source": [
    "plt.plot(Data_oil)"
   ]
  },
  {
   "cell_type": "code",
   "execution_count": 77,
   "id": "70778755",
   "metadata": {},
   "outputs": [],
   "source": [
    "training_size=int(len(Data_oil)*0.65)\n",
    "test_size=len(Data_oil)-training_size\n",
    "train_data,test_data=Data_oil[0:training_size,:],Data_oil[training_size:len(Data_oil),:1]"
   ]
  },
  {
   "cell_type": "code",
   "execution_count": 78,
   "id": "7dce26cb",
   "metadata": {},
   "outputs": [
    {
     "data": {
      "text/plain": [
       "(5340, 2876)"
      ]
     },
     "execution_count": 78,
     "metadata": {},
     "output_type": "execute_result"
    }
   ],
   "source": [
    "training_size,test_size"
   ]
  },
  {
   "cell_type": "code",
   "execution_count": 79,
   "id": "80115db8",
   "metadata": {},
   "outputs": [
    {
     "data": {
      "text/plain": [
       "(5340, 1)"
      ]
     },
     "execution_count": 79,
     "metadata": {},
     "output_type": "execute_result"
    }
   ],
   "source": [
    "train_data.shape"
   ]
  },
  {
   "cell_type": "code",
   "execution_count": 80,
   "id": "db773850",
   "metadata": {},
   "outputs": [],
   "source": [
    "#convert an array of values into a dataset Matrix\n",
    "def create_dataset(dataset,time_step=1):\n",
    "    dataX,dataY=[],[]\n",
    "    for i in range(len(dataset)-time_step-1):\n",
    "        a= dataset[i:(i+time_step),0]\n",
    "        dataX.append(a)\n",
    "        dataY.append(dataset[i + time_step,0])\n",
    "    return np.array(dataX),np.array(dataY)"
   ]
  },
  {
   "cell_type": "code",
   "execution_count": 81,
   "id": "d419ff66",
   "metadata": {},
   "outputs": [],
   "source": [
    "time_step=10\n",
    "x_train,y_train=create_dataset(train_data,time_step)\n",
    "x_test,y_test=create_dataset(test_data,time_step)"
   ]
  },
  {
   "cell_type": "code",
   "execution_count": 82,
   "id": "098f2210",
   "metadata": {},
   "outputs": [
    {
     "name": "stdout",
     "output_type": "stream",
     "text": [
      "(5329, 10)\n",
      "(5329,)\n"
     ]
    },
    {
     "data": {
      "text/plain": [
       "(None, None)"
      ]
     },
     "execution_count": 82,
     "metadata": {},
     "output_type": "execute_result"
    }
   ],
   "source": [
    "print(x_train.shape),print(y_train.shape)"
   ]
  },
  {
   "cell_type": "code",
   "execution_count": 83,
   "id": "19dee256",
   "metadata": {},
   "outputs": [
    {
     "name": "stdout",
     "output_type": "stream",
     "text": [
      "(2865, 10)\n",
      "(2865,)\n"
     ]
    },
    {
     "data": {
      "text/plain": [
       "(None, None)"
      ]
     },
     "execution_count": 83,
     "metadata": {},
     "output_type": "execute_result"
    }
   ],
   "source": [
    "print(x_test.shape),print(y_test.shape)"
   ]
  },
  {
   "cell_type": "code",
   "execution_count": 84,
   "id": "e99e4c6b",
   "metadata": {},
   "outputs": [
    {
     "data": {
      "text/plain": [
       "array([[0.11335703, 0.11661484, 0.12053902, ..., 0.10980305, 0.1089886 ,\n",
       "        0.11054346],\n",
       "       [0.11661484, 0.12053902, 0.11550422, ..., 0.1089886 , 0.11054346,\n",
       "        0.10165852],\n",
       "       [0.12053902, 0.11550422, 0.1156523 , ..., 0.11054346, 0.10165852,\n",
       "        0.09906708],\n",
       "       ...,\n",
       "       [0.36731823, 0.35176958, 0.36080261, ..., 0.36391234, 0.37042796,\n",
       "        0.37042796],\n",
       "       [0.35176958, 0.36080261, 0.35354657, ..., 0.37042796, 0.37042796,\n",
       "        0.37879461],\n",
       "       [0.36080261, 0.35354657, 0.35295424, ..., 0.37042796, 0.37879461,\n",
       "        0.37916482]])"
      ]
     },
     "execution_count": 84,
     "metadata": {},
     "output_type": "execute_result"
    }
   ],
   "source": [
    "x_train"
   ]
  },
  {
   "cell_type": "code",
   "execution_count": 85,
   "id": "d711499f",
   "metadata": {},
   "outputs": [],
   "source": [
    "x_train=x_train.reshape(x_train.shape[0],x_train.shape[1],1)\n",
    "x_test=x_test.reshape(x_test.shape[0],x_test.shape[1],1)"
   ]
  },
  {
   "cell_type": "code",
   "execution_count": 86,
   "id": "b1a60f93",
   "metadata": {},
   "outputs": [],
   "source": [
    "#create the stacked LSTM model\n",
    "from tensorflow.keras.models import Sequential\n",
    "from tensorflow.keras.layers import Dense\n",
    "from tensorflow.keras.layers import LSTM"
   ]
  },
  {
   "cell_type": "code",
   "execution_count": 87,
   "id": "2b09076c",
   "metadata": {},
   "outputs": [],
   "source": [
    "model=Sequential()"
   ]
  },
  {
   "cell_type": "code",
   "execution_count": 88,
   "id": "dd1b0610",
   "metadata": {},
   "outputs": [],
   "source": [
    "model.add(LSTM(50,return_sequences=True,input_shape=(10,1)))\n",
    "model.add(LSTM(50,return_sequences=True))\n",
    "model.add(LSTM(50))"
   ]
  },
  {
   "cell_type": "code",
   "execution_count": 89,
   "id": "2a6ce08b",
   "metadata": {},
   "outputs": [],
   "source": [
    "model.add(Dense(1))"
   ]
  },
  {
   "cell_type": "code",
   "execution_count": 90,
   "id": "4a4fa48b",
   "metadata": {},
   "outputs": [
    {
     "name": "stdout",
     "output_type": "stream",
     "text": [
      "Model: \"sequential_2\"\n",
      "_________________________________________________________________\n",
      " Layer (type)                Output Shape              Param #   \n",
      "=================================================================\n",
      " lstm_6 (LSTM)               (None, 10, 50)            10400     \n",
      "                                                                 \n",
      " lstm_7 (LSTM)               (None, 10, 50)            20200     \n",
      "                                                                 \n",
      " lstm_8 (LSTM)               (None, 50)                20200     \n",
      "                                                                 \n",
      " dense_2 (Dense)             (None, 1)                 51        \n",
      "                                                                 \n",
      "=================================================================\n",
      "Total params: 50,851\n",
      "Trainable params: 50,851\n",
      "Non-trainable params: 0\n",
      "_________________________________________________________________\n"
     ]
    }
   ],
   "source": [
    "model.summary()"
   ]
  },
  {
   "cell_type": "code",
   "execution_count": 91,
   "id": "102f1a49",
   "metadata": {},
   "outputs": [],
   "source": [
    "model.compile(loss='mean_squared_error',optimizer='adam')"
   ]
  },
  {
   "cell_type": "code",
   "execution_count": 92,
   "id": "d0889933",
   "metadata": {},
   "outputs": [
    {
     "name": "stdout",
     "output_type": "stream",
     "text": [
      "Epoch 1/50\n",
      "84/84 [==============================] - 28s 104ms/step - loss: 0.0020 - val_loss: 0.0012\n",
      "Epoch 2/50\n",
      "84/84 [==============================] - 4s 44ms/step - loss: 1.2969e-04 - val_loss: 7.5729e-04\n",
      "Epoch 3/50\n",
      "84/84 [==============================] - 3s 39ms/step - loss: 1.2360e-04 - val_loss: 7.7398e-04\n",
      "Epoch 4/50\n",
      "84/84 [==============================] - 4s 51ms/step - loss: 1.2683e-04 - val_loss: 9.3089e-04\n",
      "Epoch 5/50\n",
      "84/84 [==============================] - 5s 58ms/step - loss: 1.2301e-04 - val_loss: 7.8049e-04\n",
      "Epoch 6/50\n",
      "84/84 [==============================] - 3s 40ms/step - loss: 1.3448e-04 - val_loss: 8.3078e-04\n",
      "Epoch 7/50\n",
      "84/84 [==============================] - 3s 35ms/step - loss: 1.3626e-04 - val_loss: 9.5504e-04\n",
      "Epoch 8/50\n",
      "84/84 [==============================] - 5s 55ms/step - loss: 1.2446e-04 - val_loss: 7.9306e-04\n",
      "Epoch 9/50\n",
      "84/84 [==============================] - 5s 58ms/step - loss: 1.1840e-04 - val_loss: 7.8913e-04\n",
      "Epoch 10/50\n",
      "84/84 [==============================] - 4s 48ms/step - loss: 1.1630e-04 - val_loss: 0.0011\n",
      "Epoch 11/50\n",
      "84/84 [==============================] - 4s 42ms/step - loss: 1.1349e-04 - val_loss: 6.6190e-04\n",
      "Epoch 12/50\n",
      "84/84 [==============================] - 4s 43ms/step - loss: 1.1020e-04 - val_loss: 6.4551e-04\n",
      "Epoch 13/50\n",
      "84/84 [==============================] - 5s 54ms/step - loss: 1.1742e-04 - val_loss: 0.0011\n",
      "Epoch 14/50\n",
      "84/84 [==============================] - 4s 47ms/step - loss: 1.0919e-04 - val_loss: 7.0055e-04\n",
      "Epoch 15/50\n",
      "84/84 [==============================] - 3s 39ms/step - loss: 1.0911e-04 - val_loss: 6.4274e-04\n",
      "Epoch 16/50\n",
      "84/84 [==============================] - 4s 43ms/step - loss: 1.0458e-04 - val_loss: 5.6917e-04\n",
      "Epoch 17/50\n",
      "84/84 [==============================] - 4s 42ms/step - loss: 9.5017e-05 - val_loss: 0.0011\n",
      "Epoch 18/50\n",
      "84/84 [==============================] - 3s 37ms/step - loss: 9.9273e-05 - val_loss: 9.0614e-04\n",
      "Epoch 19/50\n",
      "84/84 [==============================] - 4s 43ms/step - loss: 8.2452e-05 - val_loss: 4.4955e-04\n",
      "Epoch 20/50\n",
      "84/84 [==============================] - 3s 40ms/step - loss: 8.7292e-05 - val_loss: 7.2152e-04\n",
      "Epoch 21/50\n",
      "84/84 [==============================] - 4s 46ms/step - loss: 9.0965e-05 - val_loss: 5.4787e-04\n",
      "Epoch 22/50\n",
      "84/84 [==============================] - 3s 41ms/step - loss: 7.6047e-05 - val_loss: 0.0012\n",
      "Epoch 23/50\n",
      "84/84 [==============================] - 3s 41ms/step - loss: 9.6432e-05 - val_loss: 4.7169e-04\n",
      "Epoch 24/50\n",
      "84/84 [==============================] - 4s 44ms/step - loss: 7.8550e-05 - val_loss: 7.9381e-04\n",
      "Epoch 25/50\n",
      "84/84 [==============================] - 4s 45ms/step - loss: 7.0142e-05 - val_loss: 4.9434e-04\n",
      "Epoch 26/50\n",
      "84/84 [==============================] - 3s 37ms/step - loss: 7.3837e-05 - val_loss: 4.8409e-04\n",
      "Epoch 27/50\n",
      "84/84 [==============================] - 3s 39ms/step - loss: 7.1158e-05 - val_loss: 6.9750e-04\n",
      "Epoch 28/50\n",
      "84/84 [==============================] - 3s 41ms/step - loss: 6.9278e-05 - val_loss: 2.9823e-04\n",
      "Epoch 29/50\n",
      "84/84 [==============================] - 3s 41ms/step - loss: 5.8456e-05 - val_loss: 3.1113e-04\n",
      "Epoch 30/50\n",
      "84/84 [==============================] - 3s 37ms/step - loss: 5.7977e-05 - val_loss: 3.0182e-04\n",
      "Epoch 31/50\n",
      "84/84 [==============================] - 3s 39ms/step - loss: 5.7313e-05 - val_loss: 3.1961e-04\n",
      "Epoch 32/50\n",
      "84/84 [==============================] - 4s 44ms/step - loss: 5.5000e-05 - val_loss: 2.6686e-04\n",
      "Epoch 33/50\n",
      "84/84 [==============================] - 4s 49ms/step - loss: 5.6785e-05 - val_loss: 8.6773e-04\n",
      "Epoch 34/50\n",
      "84/84 [==============================] - 3s 40ms/step - loss: 5.5178e-05 - val_loss: 4.2975e-04\n",
      "Epoch 35/50\n",
      "84/84 [==============================] - 4s 42ms/step - loss: 5.8095e-05 - val_loss: 2.9369e-04\n",
      "Epoch 36/50\n",
      "84/84 [==============================] - 4s 44ms/step - loss: 5.2140e-05 - val_loss: 2.3381e-04\n",
      "Epoch 37/50\n",
      "84/84 [==============================] - 4s 44ms/step - loss: 4.8870e-05 - val_loss: 2.7796e-04\n",
      "Epoch 38/50\n",
      "84/84 [==============================] - 4s 42ms/step - loss: 4.9217e-05 - val_loss: 2.1820e-04\n",
      "Epoch 39/50\n",
      "84/84 [==============================] - 4s 52ms/step - loss: 4.1285e-05 - val_loss: 3.3566e-04\n",
      "Epoch 40/50\n",
      "84/84 [==============================] - 4s 49ms/step - loss: 4.2710e-05 - val_loss: 2.2112e-04\n",
      "Epoch 41/50\n",
      "84/84 [==============================] - 4s 43ms/step - loss: 3.9089e-05 - val_loss: 3.0569e-04\n",
      "Epoch 42/50\n",
      "84/84 [==============================] - 3s 41ms/step - loss: 3.9238e-05 - val_loss: 2.3181e-04\n",
      "Epoch 43/50\n",
      "84/84 [==============================] - 4s 43ms/step - loss: 3.6963e-05 - val_loss: 1.8727e-04\n",
      "Epoch 44/50\n",
      "84/84 [==============================] - 4s 43ms/step - loss: 3.6129e-05 - val_loss: 1.9528e-04\n",
      "Epoch 45/50\n",
      "84/84 [==============================] - 4s 51ms/step - loss: 3.6671e-05 - val_loss: 2.0569e-04\n",
      "Epoch 46/50\n",
      "84/84 [==============================] - 3s 41ms/step - loss: 3.4731e-05 - val_loss: 3.9831e-04\n",
      "Epoch 47/50\n",
      "84/84 [==============================] - 5s 61ms/step - loss: 3.5468e-05 - val_loss: 3.0533e-04\n",
      "Epoch 48/50\n",
      "84/84 [==============================] - 4s 45ms/step - loss: 3.9059e-05 - val_loss: 2.1186e-04\n",
      "Epoch 49/50\n",
      "84/84 [==============================] - 4s 42ms/step - loss: 3.4326e-05 - val_loss: 2.1254e-04\n",
      "Epoch 50/50\n",
      "84/84 [==============================] - 3s 41ms/step - loss: 3.2371e-05 - val_loss: 1.8808e-04\n"
     ]
    },
    {
     "data": {
      "text/plain": [
       "<keras.callbacks.History at 0x1df1264b2b0>"
      ]
     },
     "execution_count": 92,
     "metadata": {},
     "output_type": "execute_result"
    }
   ],
   "source": [
    "model.fit(x_train,y_train,validation_data=(x_test,y_test),epochs=50,batch_size=64,verbose=1)"
   ]
  },
  {
   "cell_type": "code",
   "execution_count": 93,
   "id": "e17e5328",
   "metadata": {},
   "outputs": [
    {
     "name": "stdout",
     "output_type": "stream",
     "text": [
      "90/90 [==============================] - 5s 10ms/step\n",
      "167/167 [==============================] - 2s 10ms/step\n"
     ]
    }
   ],
   "source": [
    "test_predict=model.predict(x_test)\n",
    "train_predict=model.predict(x_train)"
   ]
  },
  {
   "cell_type": "code",
   "execution_count": 95,
   "id": "8b36d6f9",
   "metadata": {},
   "outputs": [
    {
     "data": {
      "text/plain": [
       "4028.7028835084525"
      ]
     },
     "execution_count": 95,
     "metadata": {},
     "output_type": "execute_result"
    }
   ],
   "source": [
    "#Transformback to original form\n",
    "train_predict=scaler.inverse_transform(train_predict)\n",
    "test_predict=scaler.inverse_transform(test_predict)\n",
    "\n",
    "##calculate RMSE performance metrics\n",
    "import math\n",
    "from sklearn.metrics import mean_squared_error\n",
    "math.sqrt(mean_squared_error(y_train,train_predict))"
   ]
  },
  {
   "cell_type": "code",
   "execution_count": 96,
   "id": "1e8098c7",
   "metadata": {},
   "outputs": [],
   "source": [
    "from tensorflow.keras.models import load_model\n",
    "model.save(\"crude_oil.h5\")"
   ]
  },
  {
   "cell_type": "code",
   "execution_count": 98,
   "id": "534123d1",
   "metadata": {},
   "outputs": [
    {
     "data": {
      "image/png": "[encoded data removed]",
      "text/plain": [
       "<Figure size 432x288 with 1 Axes>"
      ]
     },
     "metadata": {
      "needs_background": "light"
     },
     "output_type": "display_data"
    }
   ],
   "source": [
    "#plotting\n",
    "##shift train predictions for plotting\n",
    "look_back=10\n",
    "trainPredictPlot=np.empty_like(Data_oil)\n",
    "trainPredictPlot[:, :]=np.nan\n",
    "trainPredictPlot[look_back:len(train_predict)+look_back, :]=train_predict\n",
    "\n",
    "#shift test predictions for plotting\n",
    "testPredictPlot=np.empty_like(Data_oil)\n",
    "testPredictPlot[:, :]=np.nan\n",
    "testPredictPlot[len(train_predict)+(look_back*2)+1:len(Data_oil)-1, :]=test_predict\n",
    "\n",
    "#plot baseline and predictions\n",
    "\n",
    "plt.plot(scaler.inverse_transform(Data_oil))\n",
    "plt.plot(trainPredictPlot)\n",
    "plt.plot(testPredictPlot)\n",
    "plt.show()"
   ]
  },
  {
   "cell_type": "code",
   "execution_count": 99,
   "id": "3b2acce9",
   "metadata": {},
   "outputs": [
    {
     "data": {
      "text/plain": [
       "2876"
      ]
     },
     "execution_count": 99,
     "metadata": {},
     "output_type": "execute_result"
    }
   ],
   "source": [
    "len(test_data)"
   ]
  },
  {
   "cell_type": "code",
   "execution_count": 100,
   "id": "f68a1108",
   "metadata": {},
   "outputs": [
    {
     "data": {
      "text/plain": [
       "(1, 10)"
      ]
     },
     "execution_count": 100,
     "metadata": {},
     "output_type": "execute_result"
    }
   ],
   "source": [
    "x_input=test_data[2866:].reshape(1,-1)\n",
    "x_input.shape"
   ]
  },
  {
   "cell_type": "code",
   "execution_count": 101,
   "id": "b7c575a1",
   "metadata": {},
   "outputs": [],
   "source": [
    "temp_input=list(x_input)\n",
    "temp_input=temp_input[0].tolist()"
   ]
  },
  {
   "cell_type": "code",
   "execution_count": 102,
   "id": "89082fda",
   "metadata": {},
   "outputs": [
    {
     "data": {
      "text/plain": [
       "[0.44172960165852215,\n",
       " 0.48111950244335855,\n",
       " 0.49726047682511476,\n",
       " 0.4679401747371539,\n",
       " 0.4729749740855915,\n",
       " 0.47119798608026064,\n",
       " 0.47341922108692425,\n",
       " 0.4649785280616022,\n",
       " 0.4703835332444839,\n",
       " 0.47149415074781587]"
      ]
     },
     "execution_count": 102,
     "metadata": {},
     "output_type": "execute_result"
    }
   ],
   "source": [
    "temp_input"
   ]
  },
  {
   "cell_type": "code",
   "execution_count": 105,
   "id": "02c355c9",
   "metadata": {},
   "outputs": [
    {
     "name": "stdout",
     "output_type": "stream",
     "text": [
      "0 day input [0.4811195  0.49726048 0.46794017 0.47297497 0.47119799 0.47341922\n",
      " 0.46497853 0.47038353 0.47149415 0.47549969]\n",
      "0 day output [[0.47994024]]\n",
      "1 day input [0.49726048 0.46794017 0.47297497 0.47119799 0.47341922 0.46497853\n",
      " 0.47038353 0.47149415 0.47549969 0.47994024]\n",
      "1 day output [[0.48420653]]\n",
      "2 day input [0.46794017 0.47297497 0.47119799 0.47341922 0.46497853 0.47038353\n",
      " 0.47149415 0.47549969 0.47994024 0.48420653]\n",
      "2 day output [[0.48784065]]\n",
      "3 day input [0.47297497 0.47119799 0.47341922 0.46497853 0.47038353 0.47149415\n",
      " 0.47549969 0.47994024 0.48420653 0.48784065]\n",
      "3 day output [[0.49099863]]\n",
      "4 day input [0.47119799 0.47341922 0.46497853 0.47038353 0.47149415 0.47549969\n",
      " 0.47994024 0.48420653 0.48784065 0.49099863]\n",
      "4 day output [[0.49355328]]\n",
      "5 day input [0.47341922 0.46497853 0.47038353 0.47149415 0.47549969 0.47994024\n",
      " 0.48420653 0.48784065 0.49099863 0.49355328]\n",
      "5 day output [[0.49564996]]\n",
      "6 day input [0.46497853 0.47038353 0.47149415 0.47549969 0.47994024 0.48420653\n",
      " 0.48784065 0.49099863 0.49355328 0.49564996]\n",
      "6 day output [[0.4974262]]\n",
      "7 day input [0.47038353 0.47149415 0.47549969 0.47994024 0.48420653 0.48784065\n",
      " 0.49099863 0.49355328 0.49564996 0.49742621]\n",
      "7 day output [[0.4991559]]\n",
      "8 day input [0.47149415 0.47549969 0.47994024 0.48420653 0.48784065 0.49099863\n",
      " 0.49355328 0.49564996 0.49742621 0.49915591]\n",
      "8 day output [[0.5009214]]\n",
      "9 day input [0.47549969 0.47994024 0.48420653 0.48784065 0.49099863 0.49355328\n",
      " 0.49564996 0.49742621 0.49915591 0.50092143]\n",
      "9 day output [[0.5028311]]\n"
     ]
    }
   ],
   "source": [
    "lst_output=[]\n",
    "n_steps=10\n",
    "i=0\n",
    "\n",
    "while(i<10):\n",
    "    \n",
    "    if(len(temp_input)>10):\n",
    "        #print(temp_input)\n",
    "        x_input=np.array(temp_input[1:])\n",
    "        print(\"{} day input {}\".format(i,x_input))\n",
    "        x_input=x_input.reshape(1,-1)\n",
    "        x_input=x_input.reshape((1, n_steps,1))\n",
    "        \n",
    "        #print(x_input)\n",
    "        yhat=model.predict(x_input,verbose=0)\n",
    "        print(\"{} day output {}\".format(i,yhat))\n",
    "        temp_input.extend(yhat[0].tolist())\n",
    "        temp_input=temp_input[1:]\n",
    "        \n",
    "        #print(temp_input)\n",
    "        \n",
    "        lst_output.extend(yhat.tolist())\n",
    "        i=i+1\n",
    "    else:\n",
    "        x_input=x_input.reshape((1,n_steps,1))\n",
    "        yhat = model.predict(x_input,verbose=0)\n",
    "        print(yhat[0])\n",
    "        temp_input.extend(yhat[0].tolist())\n",
    "        print(len(temp_input))\n",
    "        lst_output.extend(yhat.tolist())\n",
    "        i=i+1\n",
    "        "
   ]
  },
  {
   "cell_type": "code",
   "execution_count": 106,
   "id": "2d70638c",
   "metadata": {},
   "outputs": [
    {
     "data": {
      "text/plain": [
       "8216"
      ]
     },
     "execution_count": 106,
     "metadata": {},
     "output_type": "execute_result"
    }
   ],
   "source": [
    "day_new=np.arange(1,11)\n",
    "day_pred=np.arange(11,21)\n",
    "\n",
    "len(Data_oil)"
   ]
  },
  {
   "cell_type": "code",
   "execution_count": 107,
   "id": "34e64b26",
   "metadata": {},
   "outputs": [
    {
     "data": {
      "text/plain": [
       "[<matplotlib.lines.Line2D at 0x1df1d2847f0>]"
      ]
     },
     "execution_count": 107,
     "metadata": {},
     "output_type": "execute_result"
    },
    {
     "data": {
      "image/png": "[encoded data removed]",
      "text/plain": [
       "<Figure size 432x288 with 1 Axes>"
      ]
     },
     "metadata": {
      "needs_background": "light"
     },
     "output_type": "display_data"
    }
   ],
   "source": [
    "plt.plot(day_new,scaler.inverse_transform(Data_oil[8206:]))\n",
    "plt.plot(day_pred,scaler.inverse_transform(lst_output))"
   ]
  },
  {
   "cell_type": "code",
   "execution_count": 109,
   "id": "631e0270",
   "metadata": {},
   "outputs": [
    {
     "data": {
      "text/plain": [
       "[<matplotlib.lines.Line2D at 0x1df1d182430>]"
      ]
     },
     "execution_count": 109,
     "metadata": {},
     "output_type": "execute_result"
    },
    {
     "data": {
      "image/png": "[encoded data removed]",
      "text/plain": [
       "<Figure size 432x288 with 1 Axes>"
      ]
     },
     "metadata": {
      "needs_background": "light"
     },
     "output_type": "display_data"
    }
   ],
   "source": [
    "df3=Data_oil.tolist()\n",
    "df3.extend(lst_output)\n",
    "plt.plot(df3[8100:])"
   ]
  },
  {
   "cell_type": "code",
   "execution_count": 112,
   "id": "ebaf4777",
   "metadata": {},
   "outputs": [],
   "source": [
    "df3=scaler.inverse_transform(df3).tolist()"
   ]
  },
  {
   "cell_type": "code",
   "execution_count": null,
   "id": "78c91c06",
   "metadata": {},
   "outputs": [],
   "source": []
  }
 ],
 "metadata": {
  "kernelspec": {
   "display_name": "Python 3 (ipykernel)",
   "language": "python",
   "name": "python3"
  },
  "language_info": {
   "codemirror_mode": {
    "name": "ipython",
    "version": 3
   },
   "file_extension": ".py",
   "mimetype": "text/x-python",
   "name": "python",
   "nbconvert_exporter": "python",
   "pygments_lexer": "ipython3",
   "version": "3.9.12"
  }
 },
 "nbformat": 4,
 "nbformat_minor": 5
}
